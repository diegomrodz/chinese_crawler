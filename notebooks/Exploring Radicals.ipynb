{
 "cells": [
  {
   "cell_type": "markdown",
   "metadata": {},
   "source": [
    "# Exploring Chinese Radicals"
   ]
  },
  {
   "cell_type": "markdown",
   "metadata": {},
   "source": [
    "A Chinese radical (Chinese: 部首; pinyin: bùshǒu; literally: \"section header\") is a graphical component of a Chinese character under which the character is traditionally listed in a Chinese dictionary."
   ]
  },
  {
   "cell_type": "markdown",
   "metadata": {},
   "source": [
    "<img src=\"https://encrypted-tbn3.gstatic.com/images?q=tbn:ANd9GcTnD0O71vv1AyRK-BW26Y6ddDXL1zuBBFEWxOg1WmxkW7djImo\"/>"
   ]
  },
  {
   "cell_type": "code",
   "execution_count": 39,
   "metadata": {
    "collapsed": true
   },
   "outputs": [],
   "source": [
    "import pandas as pd\n",
    "import numpy as np\n",
    "from neo4j.v1 import GraphDatabase, basic_auth\n",
    "import matplotlib\n",
    "import matplotlib.pyplot as plt\n",
    "%matplotlib inline "
   ]
  },
  {
   "cell_type": "code",
   "execution_count": 2,
   "metadata": {
    "collapsed": true
   },
   "outputs": [],
   "source": [
    "# Neo4j driver and client\n",
    "driver = GraphDatabase.driver(\"bolt://localhost:7687\", auth=basic_auth(\"neo4j\", \"cogch\"))\n",
    "session = driver.session()"
   ]
  },
  {
   "cell_type": "code",
   "execution_count": 3,
   "metadata": {
    "collapsed": true
   },
   "outputs": [],
   "source": [
    "# Cypher query that groups characters by its radical\n",
    "CYPHER_GROUP_RADICALS = \"\"\"\n",
    "MATCH (rad:Character)<-[rel:HAS_RADICAL]-(c:Character)\n",
    "WITH rad.char as radical, collect(distinct c.char) as chars\n",
    "RETURN radical, length(chars) as cnt, chars\n",
    "ORDER BY cnt DESC\n",
    "\"\"\""
   ]
  },
  {
   "cell_type": "code",
   "execution_count": 128,
   "metadata": {
    "collapsed": false
   },
   "outputs": [],
   "source": [
    "query = session.run(CYPHER_GROUP_RADICALS)\n",
    "query = list(query)"
   ]
  },
  {
   "cell_type": "code",
   "execution_count": 129,
   "metadata": {
    "collapsed": false
   },
   "outputs": [],
   "source": [
    "dframe = pd.DataFrame({\n",
    "    'radical': [e[0] for e in query],\n",
    "    'count': [e[1] for e in query],\n",
    "    'chars': [e[2] for e in query]\n",
    "})\n",
    "del query"
   ]
  },
  {
   "cell_type": "code",
   "execution_count": 130,
   "metadata": {
    "collapsed": false
   },
   "outputs": [
    {
     "data": {
      "text/html": [
       "<div>\n",
       "<table border=\"1\" class=\"dataframe\">\n",
       "  <thead>\n",
       "    <tr style=\"text-align: right;\">\n",
       "      <th></th>\n",
       "      <th>chars</th>\n",
       "      <th>count</th>\n",
       "      <th>radical</th>\n",
       "    </tr>\n",
       "  </thead>\n",
       "  <tbody>\n",
       "    <tr>\n",
       "      <th>0</th>\n",
       "      <td>[什, 但, 侪, 催, 偿, 倨, 傲, 儒, 件, 仙, 侏, 俚, 侈, 俭, 休, ...</td>\n",
       "      <td>116</td>\n",
       "      <td>人</td>\n",
       "    </tr>\n",
       "    <tr>\n",
       "      <th>1</th>\n",
       "      <td>[渗, 渐, 派, 浪, 浦, 沼, 汆, 泽, 漫, 漆, 河, 滩, 津, 滴, 浆, ...</td>\n",
       "      <td>104</td>\n",
       "      <td>水</td>\n",
       "    </tr>\n",
       "    <tr>\n",
       "      <th>2</th>\n",
       "      <td>[摒, 搭, 掉, 挡, 扔, 拾, 拦, 扯, 挠, 掩, 扶, 擀, 撒, 拐, 搂, ...</td>\n",
       "      <td>100</td>\n",
       "      <td>手</td>\n",
       "    </tr>\n",
       "    <tr>\n",
       "      <th>3</th>\n",
       "      <td>[嗓, 哄, 啇, 唾, 唱, 啼, 唐, 吵, 喉, 嚣, 哗, 喧, 嘈, 吨, 呫, ...</td>\n",
       "      <td>94</td>\n",
       "      <td>口</td>\n",
       "    </tr>\n",
       "    <tr>\n",
       "      <th>4</th>\n",
       "      <td>[桑, 村, 桂, 杖, 桼, 梅, 椎, 柱, 未, 柔, 橡, 横, 枝, 桁, 柴, ...</td>\n",
       "      <td>79</td>\n",
       "      <td>木</td>\n",
       "    </tr>\n",
       "  </tbody>\n",
       "</table>\n",
       "</div>"
      ],
      "text/plain": [
       "                                               chars  count radical\n",
       "0  [什, 但, 侪, 催, 偿, 倨, 傲, 儒, 件, 仙, 侏, 俚, 侈, 俭, 休, ...    116       人\n",
       "1  [渗, 渐, 派, 浪, 浦, 沼, 汆, 泽, 漫, 漆, 河, 滩, 津, 滴, 浆, ...    104       水\n",
       "2  [摒, 搭, 掉, 挡, 扔, 拾, 拦, 扯, 挠, 掩, 扶, 擀, 撒, 拐, 搂, ...    100       手\n",
       "3  [嗓, 哄, 啇, 唾, 唱, 啼, 唐, 吵, 喉, 嚣, 哗, 喧, 嘈, 吨, 呫, ...     94       口\n",
       "4  [桑, 村, 桂, 杖, 桼, 梅, 椎, 柱, 未, 柔, 橡, 横, 枝, 桁, 柴, ...     79       木"
      ]
     },
     "execution_count": 130,
     "metadata": {},
     "output_type": "execute_result"
    }
   ],
   "source": [
    "dframe.head()"
   ]
  },
  {
   "cell_type": "code",
   "execution_count": 37,
   "metadata": {
    "collapsed": false
   },
   "outputs": [
    {
     "data": {
      "text/plain": [
       "181"
      ]
     },
     "execution_count": 37,
     "metadata": {},
     "output_type": "execute_result"
    }
   ],
   "source": [
    "len(dframe)"
   ]
  },
  {
   "cell_type": "markdown",
   "metadata": {},
   "source": [
    "## Measuring the Radical Popularity"
   ]
  },
  {
   "cell_type": "code",
   "execution_count": 99,
   "metadata": {
    "collapsed": false
   },
   "outputs": [
    {
     "data": {
      "image/png": "[encoded data removed]",
      "text/plain": [
       "<matplotlib.figure.Figure at 0x7f2154027160>"
      ]
     },
     "metadata": {},
     "output_type": "display_data"
    }
   ],
   "source": [
    "MIN = dframe['count'].min()\n",
    "MAX = dframe['count'].max()\n",
    "MEAN = dframe['count'].mean()\n",
    "\n",
    "Y = []\n",
    "X = []\n",
    "\n",
    "for x in range(MIN, MAX, int(MEAN)):\n",
    "    X.append(x)\n",
    "    Y.append(len(dframe[(dframe['count'] > x - MEAN) & (dframe['count'] < x + MEAN)]))\n",
    "    \n",
    "plt.plot(X, Y)\n",
    "\n",
    "plt.ylabel(\"# Character with Radical\")\n",
    "plt.xlabel(\"Radical Distribution\")\n",
    "plt.title(\"Radical Popularity\")\n",
    "\n",
    "plt.show()"
   ]
  },
  {
   "cell_type": "markdown",
   "metadata": {},
   "source": [
    "We can see that most of sampled Chinese characters share about 40 very common radicals. Which are the following:"
   ]
  },
  {
   "cell_type": "code",
   "execution_count": 103,
   "metadata": {
    "collapsed": false
   },
   "outputs": [
    {
     "name": "stdout",
     "output_type": "stream",
     "text": [
      "人, 水, 手, 口, 木, 心, 艸, 肉, 言, 辵, 糸, 刀, 土, 宀, 日, 金, 貝, 火, 女, 一, 阜, 攵, 大, 竹, 山, 广, 目, 力, 田, 石, 禾, 衣, 頁, 犬, 十, 玉, 巾, 又, 彳, 子\n"
     ]
    }
   ],
   "source": [
    "print(\", \".join(dframe['radical'][:40]))"
   ]
  },
  {
   "cell_type": "markdown",
   "metadata": {},
   "source": [
    "## Clustering the Characters into Radical Groups"
   ]
  },
  {
   "cell_type": "code",
   "execution_count": null,
   "metadata": {
    "collapsed": true
   },
   "outputs": [],
   "source": []
  }
 ],
 "metadata": {
  "kernelspec": {
   "display_name": "Python 3",
   "language": "python",
   "name": "python3"
  },
  "language_info": {
   "codemirror_mode": {
    "name": "ipython",
    "version": 3
   },
   "file_extension": ".py",
   "mimetype": "text/x-python",
   "name": "python",
   "nbconvert_exporter": "python",
   "pygments_lexer": "ipython3",
   "version": "3.6.0"
  }
 },
 "nbformat": 4,
 "nbformat_minor": 2
}
